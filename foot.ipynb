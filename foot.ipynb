{
  "nbformat": 4,
  "nbformat_minor": 0,
  "metadata": {
    "colab": {
      "provenance": []
    },
    "kernelspec": {
      "name": "python3",
      "display_name": "Python 3"
    },
    "language_info": {
      "name": "python"
    }
  },
  "cells": [
    {
      "cell_type": "code",
      "execution_count": 13,
      "metadata": {
        "colab": {
          "base_uri": "https://localhost:8080/",
          "height": 331
        },
        "id": "YvglQUDv7Ejr",
        "outputId": "9b3710bc-0c80-4753-b1ee-8a89115748bb"
      },
      "outputs": [
        {
          "output_type": "display_data",
          "data": {
            "text/plain": [
              "<Figure size 432x288 with 1 Axes>"
            ],
            "image/png": "[encoded data removed]"
          },
          "metadata": {
            "needs_background": "light"
          }
        },
        {
          "output_type": "stream",
          "name": "stdout",
          "text": [
            "Accuracy is: 85.0\n",
            "Sensitivity :  1.0\n",
            "Specificity :  1.0\n"
          ]
        }
      ],
      "source": [
        "import numpy as np\n",
        "import pandas as pd\n",
        "from sklearn import metrics\n",
        "from sklearn.model_selection import train_test_split\n",
        "import matplotlib.pyplot as plt\n",
        "import seaborn as sns\n",
        "import pickle\n",
        "data = pd.read_csv('dataset.csv')\n",
        "data.head()\n",
        "data.shape\n",
        "X = data.iloc[:,:-1]\n",
        "X.head()\n",
        "y = data.iloc[:,-1]\n",
        "y.head()\n",
        "data['Target'].value_counts()\n",
        "X_train,X_test,y_train,y_test = train_test_split(X,y,test_size=0.5,random_state=2)\n",
        "sns.countplot(x='Target',data=data)\n",
        "plt.show()\n",
        "X_train.shape\n",
        "X_train.head()\n",
        "y_test.shape\n",
        "y_test.head()\n",
        "from sklearn.metrics import accuracy_score\n",
        "max_accuracy = 0\n",
        "\n",
        "from sklearn.neighbors import KNeighborsClassifier\n",
        "\n",
        "\n",
        "for x in range(1,4):\n",
        "    model = KNeighborsClassifier(n_neighbors=x)\n",
        "    model.fit(X_train,y_train)\n",
        "    y_pred = model.predict(X_test)\n",
        "    current_accuracy = round(accuracy_score(y_pred,y_test)*100,2)\n",
        "    if(current_accuracy>max_accuracy):\n",
        "        max_accuracy = current_accuracy\n",
        "        best_x = x\n",
        "        \n",
        "#print(max_accuracy)\n",
        "#print(best_x)\n",
        "\n",
        "model = KNeighborsClassifier(n_neighbors=3)\n",
        "model.fit(X_train,y_train)\n",
        "y_pred = model.predict(X_test)\n",
        "filename = 'knn.sav'\n",
        "pickle.dump(model, open(filename, 'wb'))\n",
        "acc=(metrics.accuracy_score(y_pred,y_test)*100)\n",
        "print(\"Accuracy is:\",acc)\n",
        "cm1 = metrics.confusion_matrix(y_pred,y_test)\n",
        "\n",
        "total1=sum(sum(cm1))\n",
        "\n",
        "\n",
        "sensitivity1 = cm1[0,0]/(cm1[0,0]+cm1[0,1])\n",
        "print('Sensitivity : ', sensitivity1 )\n",
        "\n",
        "specificity1 = cm1[1,1]/(cm1[1,0]+cm1[1,1])\n",
        "print('Specificity : ', specificity1)\n"
      ]
    },
    {
      "cell_type": "code",
      "source": [
        "import pickle\n",
        "import urllib.request\n",
        "import json\n",
        "from time import sleep\n",
        "while True:\n",
        "  conn = urllib.request.urlopen(\"https://api.thingspeak.com/channels/690526/feeds.json?results=1\")\n",
        "  response = conn.read()\n",
        "  print (\"http status code=%s\" % (conn.getcode()))\n",
        "  data=json.loads(response)\n",
        "  x=int(data['feeds'][0]['entry_id'])\n",
        "  y=x\n",
        "  conn.close()\n",
        "  while x==y:\n",
        "    conn = urllib.request.urlopen(\"https://api.thingspeak.com/channels/690526/feeds.json?results=1\")\n",
        "    response = conn.read()\n",
        "    #print (\"http status code=%s\" % (conn.getcode()))\n",
        "    data=json.loads(response)\n",
        "    y=int(data['feeds'][0]['entry_id'])\n",
        "    conn.close()\n",
        "\n",
        "  conn = urllib.request.urlopen(\"https://api.thingspeak.com/channels/690526/feeds.json?results=1\")\n",
        "  response = conn.read()\n",
        "  print (\"http status code=%s\" % (conn.getcode()))\n",
        "  data=json.loads(response)\n",
        "  d=float(data['feeds'][0]['field1'])\n",
        "  e=float(data['feeds'][0]['field2'])\n",
        "  f=float(data['feeds'][0]['field3'])\n",
        "  #g=float(data['feeds'][0]['field4'])\n",
        "  h=float(data['feeds'][0]['field5'])\n",
        "  #i=float(data['feeds'][0]['field6'])\n",
        "  #j=float(data['feeds'][0]['field7'])\n",
        "  conn.close()\n",
        "  filename = 'knn.sav'\n",
        "  loaded_model = pickle.load(open(filename, 'rb'))\n",
        "  person_reports = [[d,e,f,h]]\n",
        "  predicted = loaded_model.predict(person_reports)\n",
        "  print(\"ANALYSING....\")\n",
        "  print(predicted)\n",
        "  if predicted[0]==0:\n",
        "    print(\"NORMAL\")\n",
        "    conn = urllib.request.urlopen(\"https://api.thingspeak.com/update?api_key=CGKKAUA33E2VK9J6&field8=NORMAL\")\n",
        "  elif predicted[0]==2:\n",
        "    conn = urllib.request.urlopen(\"https://api.thingspeak.com/update?api_key=CGKKAUA33E2VK9J6&field8=Adjusting_the_orthotic_device\")\n",
        "  elif predicted[0]==1:\n",
        "    conn = urllib.request.urlopen(\"https://api.thingspeak.com/update?api_key=CGKKAUA33E2VK9J6&field8=Exercise_and_stretching\")\n",
        "  elif predicted[0]==3:\n",
        "    conn = urllib.request.urlopen(\"https://api.thingspeak.com/update?api_key=CGKKAUA33E2VK9J6&field8=Lifestyle_changes\")\n"
      ],
      "metadata": {
        "id": "moCQilM77tCE",
        "colab": {
          "base_uri": "https://localhost:8080/"
        },
        "outputId": "01b06d7a-af85-4988-cb1a-68702cb2126a"
      },
      "execution_count": null,
      "outputs": [
        {
          "output_type": "stream",
          "name": "stdout",
          "text": [
            "http status code=200\n",
            "http status code=200\n",
            "ANALYSING....\n",
            "[2]\n",
            "http status code=200\n"
          ]
        },
        {
          "output_type": "stream",
          "name": "stderr",
          "text": [
            "/usr/local/lib/python3.8/dist-packages/sklearn/base.py:450: UserWarning: X does not have valid feature names, but KNeighborsClassifier was fitted with feature names\n",
            "  warnings.warn(\n"
          ]
        },
        {
          "output_type": "stream",
          "name": "stdout",
          "text": [
            "http status code=200\n",
            "ANALYSING....\n",
            "[0]\n",
            "NORMAL\n",
            "http status code=200\n"
          ]
        },
        {
          "output_type": "stream",
          "name": "stderr",
          "text": [
            "/usr/local/lib/python3.8/dist-packages/sklearn/base.py:450: UserWarning: X does not have valid feature names, but KNeighborsClassifier was fitted with feature names\n",
            "  warnings.warn(\n"
          ]
        }
      ]
    }
  ]
}